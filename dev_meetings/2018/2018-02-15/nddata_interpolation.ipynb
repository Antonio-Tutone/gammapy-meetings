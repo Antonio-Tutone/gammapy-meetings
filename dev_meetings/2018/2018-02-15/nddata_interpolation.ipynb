{
 "cells": [
  {
   "cell_type": "code",
   "execution_count": 53,
   "metadata": {
    "collapsed": true
   },
   "outputs": [],
   "source": [
    "%matplotlib inline\n",
    "import numpy as np\n",
    "import astropy.units as u\n",
    "from astropy.coordinates import SkyCoord\n",
    "from gammapy.utils.nddata import NDDataArray, BinnedDataAxis\n"
   ]
  },
  {
   "cell_type": "code",
   "execution_count": 74,
   "metadata": {},
   "outputs": [
    {
     "name": "stdout",
     "output_type": "stream",
     "text": [
      "(10, 100, 30)\n"
     ]
    }
   ],
   "source": [
    "offset_max = 5*u.deg\n",
    "theta = np.linspace(0.,offset_max.value,101)*u.deg\n",
    "phi = np.linspace(0,np.pi,11)*u.rad\n",
    "energy = np.logspace(-1.,1.,31)*u.TeV\n",
    "\n",
    "theta_lo = theta[:-1]\n",
    "theta_hi = theta[1:]\n",
    "theta = 0.5*(theta_lo + theta_hi)\n",
    "\n",
    "phi_lo = phi[:-1]\n",
    "phi_hi = phi[1:]\n",
    "phi = 0.5*(phi_lo + phi_hi)\n",
    "\n",
    "energy_lo = energy[:-1]\n",
    "energy_hi = energy[1:]\n",
    "energy = 0.5*(energy_lo + energy_hi)\n",
    "\n",
    "scale = 2\n",
    "scale2 = 3\n",
    "Eref = 1\n",
    "\n",
    "T,P,E = np.meshgrid(theta.value,phi.value,energy.value)\n",
    "print T.shape"
   ]
  },
  {
   "cell_type": "markdown",
   "metadata": {},
   "source": [
    "Most IRF are stored as a function of the FoV polar coordinates ``fov_theta`` and ``fov_phi``.\n",
    "\n",
    "Here we define a typical effective area with some phi dependency. "
   ]
  },
  {
   "cell_type": "code",
   "execution_count": 75,
   "metadata": {},
   "outputs": [],
   "source": [
    "axis_theta = BinnedDataAxis(theta_lo, theta_hi,name='fov_theta')\n",
    "axis_phi = BinnedDataAxis(phi_lo, phi_hi,name='fov_phi')\n",
    "axis_energy_true = BinnedDataAxis(energy_lo,energy_hi,name='energy_true'\n",
    "                                  ,interpolation_mode='log')\n",
    "\n",
    "data = np.exp(-0.5*(T/scale)**2)*(1+0.1*np.cos(P))*(E/Eref)**-2\n",
    "\n",
    "aeff = NDDataArray([axis_phi,axis_theta,axis_energy_true], data)\n"
   ]
  },
  {
   "cell_type": "markdown",
   "metadata": {},
   "source": [
    "We have also IRFs that use lon and lat FoV coordinates (incorrectly written det_x and det_y in some cases). This is usually the case for the background. We define it in ``fov_lon`` and ``fov_lat`` coordinates."
   ]
  },
  {
   "cell_type": "code",
   "execution_count": 76,
   "metadata": {},
   "outputs": [],
   "source": [
    "fov_x = np.linspace(-offset_max,offset_max,101)*u.deg\n",
    "\n",
    "fov_x_lo = fov_x[:-1]\n",
    "fov_x_hi = fov_x[1:]\n",
    "fov_x = 0.5*(fov_x_lo + fov_x_hi)\n",
    "\n",
    "X,Y,E = np.meshgrid(fov_x.value,fov_x.value,energy.value)\n",
    "\n",
    "\n",
    "axis_x = BinnedDataAxis(fov_x_lo, fov_x_hi,name='fov_lon')\n",
    "axis_y = BinnedDataAxis(fov_x_lo, fov_x_hi,name='fov_lat')\n",
    "axis_energy_reco = BinnedDataAxis(energy_lo,energy_hi,name='energy_reco',\n",
    "                                  interpolation_mode='log')\n",
    "\n",
    "data = np.exp(-0.5*(X**2+Y**2)/scale2**2)*(E/Eref)**-2.7\n",
    "\n",
    "bkg = NDDataArray([axis_x,axis_y,axis_energy_reco], data)\n"
   ]
  },
  {
   "cell_type": "markdown",
   "metadata": {},
   "source": [
    "For the moment the NDDataArray.evaluate method assumes 1D inputs and applies broadcasting.\n",
    "\n",
    "N-dim arrays are flattened before broadcasting yielding huge output."
   ]
  },
  {
   "cell_type": "code",
   "execution_count": 79,
   "metadata": {},
   "outputs": [
    {
     "name": "stdout",
     "output_type": "stream",
     "text": [
      "(20, 34, 10)\n"
     ]
    }
   ],
   "source": [
    "bkg_eval = bkg.evaluate(fov_lon=fov_x[::5],fov_lat=fov_x[::3],\n",
    "                        energy_reco = np.logspace(-0.5,1.,10)*u.TeV)\n",
    "print bkg_eval.shape"
   ]
  },
  {
   "cell_type": "markdown",
   "metadata": {},
   "source": [
    "This logic does not apply for the case of ``fov_theta`` and ``fov_phi``."
   ]
  },
  {
   "cell_type": "markdown",
   "metadata": {},
   "source": [
    "A typical use case consists in producing an exposure and a background map for a given observation. \n",
    "\n",
    "We start with a ``gammapy.maps.WcsNDMAp`` and we need to project all its coordinates into the FoV frame, either lon/lat or polar angles."
   ]
  },
  {
   "cell_type": "code",
   "execution_count": 57,
   "metadata": {},
   "outputs": [],
   "source": [
    "from gammapy.maps import WcsNDMap, WcsGeom, MapAxis\n",
    "energy = np.logspace(-1.,1.,31)*u.TeV\n",
    "mapaxis_energy_reco = MapAxis(energy.value, interp='log', node_type='edge',\n",
    "                           name='energy_reco', unit = energy.unit)\n",
    "pos = SkyCoord(0.0, 0.0, frame='galactic',unit='deg')\n",
    "\n",
    "geom = {'binsz':0.02, 'coordsys':'GAL', 'width' : 15*u.deg,\n",
    "            'skydir' : pos, 'axes' : [mapaxis_energy_reco]}\n",
    "\n",
    "wcsgeom = WcsGeom.create(**geom)\n",
    "mask = WcsNDMap(wcsgeom)"
   ]
  },
  {
   "cell_type": "markdown",
   "metadata": {},
   "source": [
    "The initial step for processing any observation (or IRF time interval) is to convert the spatial coordinates of the target map in the fov frame."
   ]
  },
  {
   "cell_type": "code",
   "execution_count": 68,
   "metadata": {},
   "outputs": [],
   "source": [
    "new_geom = wcsgeom.to_image()\n",
    "\n",
    "tmp_coords = new_geom.get_coords()\n",
    "glon = tmp_coords[0]\n",
    "glat = tmp_coords[1]\n",
    "\n",
    "## The first two coordinates are spatial\n",
    "skycoords = SkyCoord(glon, glat, frame='galactic', unit='deg')\n",
    "\n",
    "# The FoV frame. We use random rotation of 20 deg\n",
    "# and pointing position \n",
    "pointing = SkyCoord(2.5,-1.5,frame='galactic',unit=\"deg\")\n",
    "fovframe = pointing.skyoffset_frame(rotation=20*u.deg)\n",
    "\n",
    "fov_coords = skycoords.transform_to(fovframe)\n",
    "\n",
    "fov_lon, fov_lat= fov_coords.lon, fov_coords.lat\n",
    "\n",
    "fov_theta = skycoords.separation(pointing)\n",
    "fov_phi = np.arccos(fov_lon/fov_theta).to('deg')*np.sign(fov_lat)"
   ]
  },
  {
   "cell_type": "code",
   "execution_count": 69,
   "metadata": {},
   "outputs": [
    {
     "data": {
      "text/plain": [
       "<matplotlib.image.AxesImage at 0x111305850>"
      ]
     },
     "execution_count": 69,
     "metadata": {},
     "output_type": "execute_result"
    },
    {
     "data": {
      "image/png": "[encoded data removed]",
      "text/plain": [
       "<matplotlib.figure.Figure at 0x101474810>"
      ]
     },
     "metadata": {},
     "output_type": "display_data"
    }
   ],
   "source": [
    "import matplotlib.pyplot as plt\n",
    "plt.figure()\n",
    "plt.subplot(121)\n",
    "plt.imshow(fov_theta)\n",
    "plt.subplot(122)\n",
    "plt.imshow(fov_phi)\n"
   ]
  },
  {
   "cell_type": "markdown",
   "metadata": {},
   "source": [
    "In practice we want to be able to call any IRF with the fov_coords without knowing what is the exact axis definition, e.g.\n",
    "``aeff.evaluate(fov_coords,energy_true=energy)``\n",
    "This should return an array of shape ``(fov_coords.shape, fov_coords.shape, energy.shape)``.\n",
    "\n",
    "The conversion between ``(fov_lon,fov_lat)`` and ``(fov_theta,fov_phi)`` should be done in the evaluate method."
   ]
  },
  {
   "cell_type": "code",
   "execution_count": 80,
   "metadata": {},
   "outputs": [
    {
     "data": {
      "text/plain": [
       "<bound method WcsGeom.get_coords of <gammapy.maps.wcs.WcsGeom object at 0x117933410>>"
      ]
     },
     "execution_count": 80,
     "metadata": {},
     "output_type": "execute_result"
    }
   ],
   "source": [
    "mask.geom.get_coords()\n",
    "mask.get_by_coords"
   ]
  },
  {
   "cell_type": "code",
   "execution_count": null,
   "metadata": {
    "collapsed": true
   },
   "outputs": [],
   "source": []
  }
 ],
 "metadata": {
  "kernelspec": {
   "display_name": "Python 2",
   "language": "python",
   "name": "python2"
  },
  "language_info": {
   "codemirror_mode": {
    "name": "ipython",
    "version": 2
   },
   "file_extension": ".py",
   "mimetype": "text/x-python",
   "name": "python",
   "nbconvert_exporter": "python",
   "pygments_lexer": "ipython2",
   "version": "2.7.11"
  }
 },
 "nbformat": 4,
 "nbformat_minor": 2
}
