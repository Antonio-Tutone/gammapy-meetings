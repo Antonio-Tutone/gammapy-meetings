{
 "cells": [
  {
   "cell_type": "markdown",
   "metadata": {
    "slideshow": {
     "slide_type": "slide"
    }
   },
   "source": [
    "# Observation/GTI handling\n",
    "\n",
    "### Gammapy Coding Sprint - Madrid 2018\n",
    "\n",
    "#### David Fidalgo\n"
   ]
  },
  {
   "cell_type": "markdown",
   "metadata": {
    "slideshow": {
     "slide_type": "slide"
    }
   },
   "source": [
    "## 1. Observation handling\n",
    "\n",
    "### What do we have?\n",
    " 1. Create _observations_ from a **DataStore** object (\"standard\" way)\n",
    "   - super convenient, just *obs_id* needed\n",
    "   - but *Index files* necessary\n",
    "   - *Events* and *IRFS* not stored in memory\n",
    " 2. New in 0.8: create observation from \"scratch\" \n",
    "   - not so convenient\n",
    "   - no *Index files* needed\n",
    "   - everything stored in memory\n",
    "   - still not fully implemented (work for this week)"
   ]
  },
  {
   "cell_type": "code",
   "execution_count": null,
   "metadata": {
    "slideshow": {
     "slide_type": "subslide"
    }
   },
   "outputs": [],
   "source": [
    "# \"standard\" way\n",
    "from gammapy.data import DataStore\n",
    "\n",
    "data_store = DataStore.from_dir(\"$GAMMAPY_DATA/cta-1dc/index/gps/\")\n",
    "obs_ids = [110380, 111140, 111159]\n",
    "obs_list = data_store.obs_list(obs_ids)"
   ]
  },
  {
   "cell_type": "code",
   "execution_count": 87,
   "metadata": {},
   "outputs": [],
   "source": [
    "# from \"scratch\"\n",
    "from gammapy.data import ObservationCTA, EventList, GTI\n",
    "from gammapy.irf import (\n",
    "    EnergyDependentMultiGaussPSF,\n",
    "    EffectiveAreaTable2D,\n",
    "    EnergyDispersion2D,\n",
    "    Background3D,\n",
    ")\n",
    "\n",
    "filename = \"$GAMMAPY_DATA/cta-1dc/data/baseline/gps/gps_baseline_110380.fits\"\n",
    "event_list = EventList.read(filename)\n",
    "gti = GTI.read(filename)\n",
    "\n",
    "filename = \"$GAMMAPY_DATA/cta-1dc/caldb/data/cta/1dc/bcf/South_z20_50h/irf_file.fits\"\n",
    "aeff = EffectiveAreaTable2D.read(filename)\n",
    "bkg = Background3D.read(filename)\n",
    "edisp = EnergyDispersion2D.read(filename, hdu=\"Energy Dispersion\")\n",
    "psf = EnergyDependentMultiGaussPSF.read(filename, hdu=\"Point Spread Function\")\n",
    "\n",
    "obs = ObservationCTA(\n",
    "    obs_id=event_list.table.meta[\"OBS_ID\"],\n",
    "    events=event_list,\n",
    "    gti=gti,\n",
    "    psf=psf,\n",
    "    aeff=aeff,\n",
    "    edisp=edisp,\n",
    "    bkg=bkg,\n",
    "    pointing_radec=event_list.pointing_radec,\n",
    "    observation_live_time_duration=event_list.observation_live_time_duration,\n",
    "    observation_dead_time_fraction=event_list.observation_dead_time_fraction,\n",
    ")\n",
    "\n",
    "# or create it from existing observation\n",
    "obs = obs_list[0].to_observation_cta()"
   ]
  },
  {
   "cell_type": "markdown",
   "metadata": {},
   "source": [
    "## 2. GTI handling\n",
    "\n",
    "### What do we have?\n",
    " - existing GTI class not used\n",
    " - new observation class allows for selections in time"
   ]
  },
  {
   "cell_type": "code",
   "execution_count": 92,
   "metadata": {},
   "outputs": [],
   "source": [
    "from astropy.time import Time\n",
    "\n",
    "#print(obs.events.time.min().utc.datetime, obs.events.time.max().utc.datetime)\n",
    "time_interval = Time(['2021-01-21T12:00:00', '2021-01-21T12:10:00'])\n",
    "obs.events = obs.events.select_time(time_interval)  # this does not work with DataStoreObservation\n",
    "\n",
    "obs_time = (time_interval[1] - time_interval[0]).to('s')\n",
    "obs.observation_live_time_duration = obs_time * (1 - obs.observation_dead_time_fraction)"
   ]
  },
  {
   "cell_type": "code",
   "execution_count": null,
   "metadata": {},
   "outputs": [],
   "source": []
  }
 ],
 "metadata": {
  "celltoolbar": "Slideshow",
  "kernelspec": {
   "display_name": "Python (gammapy-dev)",
   "language": "python",
   "name": "gammapy-dev"
  },
  "language_info": {
   "codemirror_mode": {
    "name": "ipython",
    "version": 3
   },
   "file_extension": ".py",
   "mimetype": "text/x-python",
   "name": "python",
   "nbconvert_exporter": "python",
   "pygments_lexer": "ipython3",
   "version": "3.6.0"
  }
 },
 "nbformat": 4,
 "nbformat_minor": 2
}
