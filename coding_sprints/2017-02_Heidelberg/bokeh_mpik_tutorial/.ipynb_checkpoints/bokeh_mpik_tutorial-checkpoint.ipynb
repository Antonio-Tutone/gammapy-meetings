{
 "cells": [
  {
   "cell_type": "markdown",
   "metadata": {},
   "source": [
    "# BOKEH\n",
    "\n",
    "## ABOUT\n",
    "Bokeh is a python plotting and visualisation library that can be used as an alternative to matplotlib. It provides a Python interface for producing advanced graphics in a web browser rendered by javascript, and allows for advanced interactions to explore the data plotted.\n",
    "\n",
    "Bokeh is a Japanese word used by photographers to describe the blurring of the out-of-focus parts of an image to bring greater attention to the subject. In order to provide a similar purpose, this Python library provides utilities to bring focus to important subsets in large datasets.\n",
    "\n",
    "## INSTALLATION\n",
    "`conda install bokeh`\n",
    "\n",
    "## INSTRUCTIONS\n",
    "The [User Guide](http://bokeh.pydata.org/en/latest/docs/user_guide.html) is an excellent source for learning about the majority that Bokeh has to offer. The more advanced capabilities can be gleaned from the examples in the [Gallery](http://bokeh.pydata.org/en/latest/docs/gallery.html), and the [examples](https://github.com/bokeh/bokeh/tree/master/examples) directory in the Github."
   ]
  },
  {
   "cell_type": "code",
   "execution_count": null,
   "metadata": {
    "collapsed": false
   },
   "outputs": [],
   "source": [
    "from IPython.core.display import HTML, display\n",
    "display(HTML('<iframe src=https://demo.bokehplots.com/apps/crossfilter width=1000 height=650></iframe>')\n",
    ")"
   ]
  },
  {
   "cell_type": "markdown",
   "metadata": {},
   "source": [
    "## MATPLOTLIB\n",
    "I will begin by creating a plot in matplotlib to demonstrate the similarites between using the two packages."
   ]
  },
  {
   "cell_type": "code",
   "execution_count": null,
   "metadata": {
    "collapsed": true
   },
   "outputs": [],
   "source": [
    "import numpy as np\n",
    "\n",
    "x = np.arange(10)\n",
    "y1 = np.random.rand(10)\n",
    "y2 = np.random.rand(10)"
   ]
  },
  {
   "cell_type": "code",
   "execution_count": null,
   "metadata": {
    "collapsed": true
   },
   "outputs": [],
   "source": [
    "%matplotlib inline\n",
    "from matplotlib import pyplot as plt"
   ]
  },
  {
   "cell_type": "code",
   "execution_count": null,
   "metadata": {
    "collapsed": false
   },
   "outputs": [],
   "source": [
    "# Create a figure\n",
    "fig = plt.figure(figsize=(13, 6))\n",
    "\n",
    "# Create 2 subplots in the figure\n",
    "ax1 = fig.add_subplot(2, 1, 1)\n",
    "ax2 = fig.add_subplot(2, 1, 2)\n",
    "\n",
    "# Plot the data\n",
    "ax1.plot(x, y1, color='purple')\n",
    "ax2.plot(x, y2)\n",
    "ax2.plot(x, y1, 'o') # Plot as circles\n",
    "\n",
    "# Add axis titles\n",
    "ax2.set_xlabel(\"x_points\")\n",
    "ax2.set_ylabel(\"y_data\")\n",
    "\n",
    "# Show the plot\n",
    "plt.show()"
   ]
  },
  {
   "cell_type": "markdown",
   "metadata": {},
   "source": [
    "Lets produce the same plot inside Bokeh..."
   ]
  },
  {
   "cell_type": "code",
   "execution_count": null,
   "metadata": {
    "collapsed": false
   },
   "outputs": [],
   "source": [
    "from bokeh.plotting import figure, show\n",
    "from bokeh.io import output_notebook\n",
    "from bokeh.layouts import column, gridplot\n",
    "output_notebook()"
   ]
  },
  {
   "cell_type": "code",
   "execution_count": null,
   "metadata": {
    "collapsed": false
   },
   "outputs": [],
   "source": [
    "# Create 2 figures\n",
    "fig1 = figure(width=700, height=200)\n",
    "fig2 = figure(width=700, height=200)\n",
    "\n",
    "# Add glyphs to the figures\n",
    "fig1.line(x, y1, color='purple')\n",
    "fig2.line(x, y2)\n",
    "fig2.circle(x, y1, color='orange')\n",
    "\n",
    "# Add axis titles\n",
    "fig2.xaxis.axis_label = \"x_points\"\n",
    "fig2.yaxis.axis_label = \"y_data\"\n",
    "\n",
    "# Put the figures into a grid, and show them\n",
    "show(gridplot([[fig1], [fig2]]))"
   ]
  },
  {
   "cell_type": "markdown",
   "metadata": {},
   "source": [
    "## GLYPHS AND HISTOGRAMS\n",
    "Objects such as lines and circles (shown above) are known as glyphs in Bokeh. They are the low level plotting objects that can be utilised to produce the higher level charts you are more familier with. Bokeh does provide a higher level chart interface themselves - but I personally prefer to not use it as I usually require finer control than the \"chart\" provides. A list of all the glyphs inside Bokeh can be found at [Plotting with Basic Glyphs](http://bokeh.pydata.org/en/latest/docs/user_guide/plotting.html).\n",
    "\n",
    "One plot that is often required is a histogram, which can be generated using the \"quad\" glyph."
   ]
  },
  {
   "cell_type": "code",
   "execution_count": null,
   "metadata": {
    "collapsed": false
   },
   "outputs": [],
   "source": [
    "import numpy as np\n",
    "from bokeh.plotting import figure, show\n",
    "from bokeh.io import output_notebook\n",
    "from bokeh.layouts import column, gridplot\n",
    "output_notebook()"
   ]
  },
  {
   "cell_type": "code",
   "execution_count": null,
   "metadata": {
    "collapsed": false
   },
   "outputs": [],
   "source": [
    "data = np.random.normal(size=10000)\n",
    "histogram, edges = np.histogram(data, bins=30)\n",
    "bottom = np.zeros(edges.size - 1)\n",
    "left = edges[:-1]\n",
    "right = edges[1:]\n",
    "\n",
    "fig = figure(width=700, height=300)\n",
    "fig.quad(bottom=bottom, left=left, right=right, top=histogram, alpha=0.5)\n",
    "show(fig)"
   ]
  },
  {
   "cell_type": "markdown",
   "metadata": {},
   "source": [
    "## INTERACTIONS\n",
    "Bokeh's biggest advantage is the interactions it provides to the user on the plots, allowing for control in exploring your dataset (as we saw in the example at the start). Interactions can be defined into 3 categories:\n",
    "\n",
    "### Tools\n",
    "These are the icons on the side of the figure. The default ones are \"Pan\", \"Box Zoom\", \"Wheel Zoom\", \"Save\", and \"Reset\". There are others tools that can be enabled, or you can disable certain tools, when you create the figure. Bokeh has a page describing the different [tools](http://bokeh.pydata.org/en/latest/docs/user_guide/tools.html) available.\n",
    "\n",
    "Below we show three ways to add the \"Hover\" tool to the plot:"
   ]
  },
  {
   "cell_type": "code",
   "execution_count": null,
   "metadata": {
    "collapsed": false
   },
   "outputs": [],
   "source": [
    "from bokeh.plotting import figure, output_notebook, show\n",
    "\n",
    "output_notebook()\n",
    "\n",
    "# Add hover to this comma-separated string and see what changes\n",
    "TOOLS = 'hover'\n",
    "\n",
    "p = figure(plot_width=400, plot_height=400, title=\"Mouse over the dots\", tools=TOOLS)\n",
    "p.circle([1, 2, 3, 4, 5], [2, 5, 8, 2, 7], size=10)\n",
    "show(p)"
   ]
  },
  {
   "cell_type": "code",
   "execution_count": null,
   "metadata": {
    "collapsed": false
   },
   "outputs": [],
   "source": [
    "from bokeh.plotting import figure, output_notebook, show\n",
    "from bokeh.models import HoverTool\n",
    "\n",
    "output_notebook()\n",
    "TOOLS = [HoverTool()]\n",
    "\n",
    "p = figure(plot_width=400, plot_height=400, title=\"Mouse over the dots\", tools=TOOLS)\n",
    "p.circle([1, 2, 3, 4, 5], [2, 5, 8, 2, 7], size=10)\n",
    "show(p)"
   ]
  },
  {
   "cell_type": "code",
   "execution_count": null,
   "metadata": {
    "collapsed": false
   },
   "outputs": [],
   "source": [
    "from bokeh.plotting import figure, output_notebook, show, ColumnDataSource\n",
    "from bokeh.models import HoverTool\n",
    "\n",
    "output_notebook()\n",
    "\n",
    "source = ColumnDataSource(\n",
    "        data=dict(\n",
    "            x=[1, 2, 3, 4, 5],\n",
    "            y=[2, 5, 8, 2, 7],\n",
    "            desc=['A', 'b', 'C', 'd', 'E'],\n",
    "        )\n",
    "    )\n",
    "\n",
    "hover = HoverTool(\n",
    "        tooltips=[\n",
    "            (\"index\", \"$index\"),\n",
    "            (\"(x,y)\", \"($x, $y)\"),\n",
    "            (\"desc\", \"@desc\"),\n",
    "        ]\n",
    "    )\n",
    "\n",
    "p = figure(plot_width=400, plot_height=400, tools=[hover],\n",
    "           title=\"Mouse over the dots\")\n",
    "\n",
    "p.circle('x', 'y', size=20, source=source)\n",
    "\n",
    "show(p)"
   ]
  },
  {
   "cell_type": "markdown",
   "metadata": {},
   "source": [
    "In the last example, we defined some extra tooltips to be shown on hover. This is accomplished with the use of a ColumnDataSource, a method of passing data to a figure that we will cover later.\n",
    "\n",
    "### Widgets\n",
    "Widgets allow interactions that are commonly expected in GUIs. Below a few different widgets are created, but ultimately do not do anything. In order to add interaction, we must add a Javascript or Python method to the widget."
   ]
  },
  {
   "cell_type": "code",
   "execution_count": null,
   "metadata": {
    "collapsed": false
   },
   "outputs": [],
   "source": [
    "from bokeh.io import output_notebook, show\n",
    "from bokeh.layouts import widgetbox\n",
    "from bokeh.models.widgets import Button, CheckboxButtonGroup, RadioGroup, Select\n",
    "\n",
    "output_notebook()\n",
    "\n",
    "button = Button(label=\"Foo\", button_type=\"success\")\n",
    "checkbox_button_group = CheckboxButtonGroup(labels=[\"Option 1\", \"Option 2\", \"Option 3\"], active=[0, 1])\n",
    "radio_group = RadioGroup(labels=[\"Option 1\", \"Option 2\", \"Option 3\"], active=0)\n",
    "select = Select(title=\"Option:\", value=\"foo\", options=[\"foo\", \"bar\", \"baz\", \"quux\"])\n",
    "\n",
    "show(widgetbox(button, checkbox_button_group, radio_group, select))"
   ]
  },
  {
   "cell_type": "markdown",
   "metadata": {},
   "source": [
    "### Javascript Callbacks\n",
    "Many bokeh objects allow additional Javascript functionality to be added to them. This functionality will be operational irregardless of the output format of the bokeh plot, but does require some Javascript knowledge (which I do not have). Below we add Javascript functionality to a slider widget."
   ]
  },
  {
   "cell_type": "code",
   "execution_count": null,
   "metadata": {
    "collapsed": false
   },
   "outputs": [],
   "source": [
    "from bokeh.layouts import column\n",
    "from bokeh.models import CustomJS, ColumnDataSource, Slider\n",
    "from bokeh.plotting import Figure, output_notebook, show\n",
    "\n",
    "output_notebook()\n",
    "\n",
    "x = [x*0.005 for x in range(0, 200)]\n",
    "y = x\n",
    "\n",
    "source = ColumnDataSource(data=dict(x=x, y=y))\n",
    "\n",
    "plot = Figure(plot_width=400, plot_height=400)\n",
    "plot.line('x', 'y', source=source, line_width=3, line_alpha=0.6)\n",
    "\n",
    "callback = CustomJS(args=dict(source=source), code=\"\"\"\n",
    "    var data = source.data;\n",
    "    var f = cb_obj.value\n",
    "    x = data['x']\n",
    "    y = data['y']\n",
    "    for (i = 0; i < x.length; i++) {\n",
    "        y[i] = Math.pow(x[i], f)\n",
    "    }\n",
    "    source.trigger('change');\n",
    "\"\"\")\n",
    "\n",
    "slider = Slider(start=0.1, end=4, value=1, step=.1, title=\"power\")\n",
    "slider.js_on_change('value', callback)\n",
    "\n",
    "layout = column(slider, plot)\n",
    "\n",
    "show(layout)"
   ]
  },
  {
   "cell_type": "markdown",
   "metadata": {},
   "source": [
    "## OUTPUTS AND INTERACTIONS\n",
    "Excluding Jupyter Notebooks, there are three main methods to produce the Bokeh plots from your Python scripts. Some of the methods limit you to only Javascript interactability. Lets create a python script that defines some interactions, and try to run view them in the different outputs Bokeh offers."
   ]
  },
  {
   "cell_type": "code",
   "execution_count": null,
   "metadata": {
    "collapsed": false
   },
   "outputs": [],
   "source": [
    "%%writefile interactions.py\n",
    "from bokeh.layouts import column\n",
    "from bokeh.models import CustomJS, ColumnDataSource, Slider, Select\n",
    "from bokeh.plotting import figure, output_file, show\n",
    "from bokeh.io import curdoc\n",
    "\n",
    "output_file(\"callback.html\")\n",
    "\n",
    "x = [x*0.005 for x in range(0, 200)]\n",
    "y = x\n",
    "\n",
    "source = ColumnDataSource(data=dict(x=x, y=y))\n",
    "\n",
    "plot = figure(plot_width=400, plot_height=400)\n",
    "l = plot.line('x', 'y', source=source, line_width=3, line_alpha=0.6)\n",
    "\n",
    "\n",
    "# Javascript callback function\n",
    "callback = CustomJS(args=dict(source=source), code=\"\"\"\n",
    "        var data = source.data;\n",
    "        var f = cb_obj.value\n",
    "        x = data['x']\n",
    "        y = data['y']\n",
    "        for (i = 0; i < x.length; i++) {\n",
    "            y[i] = Math.pow(x[i], f)\n",
    "        }\n",
    "        source.trigger('change');\n",
    "    \"\"\")\n",
    "\n",
    "# Python callback function\n",
    "def update(attr, old, new):\n",
    "    l.glyph.line_color = new\n",
    "\n",
    "# Javascript widget\n",
    "slider = Slider(start=0.1, end=4, value=1, step=.1, title=\"power\", callback=callback)\n",
    "\n",
    "# Python widget\n",
    "select = Select(title=\"Color:\", value=\"blue\", options=[\"blue\",\"orange\", \"purple\", \"green\"])\n",
    "select.on_change('value', update)\n",
    "\n",
    "layout = column(slider, select, plot)\n",
    "\n",
    "show(layout)\n",
    "\n",
    "curdoc().add_root(layout)"
   ]
  },
  {
   "cell_type": "markdown",
   "metadata": {},
   "source": [
    "### HTML\n",
    "Bokeh plots can be saved directly as a HTML file. The data for creating the points inside the plot are stored inside the file as well. However, interactions with the plot are limited to the Javascript interactions, tools and callbacks.\n",
    "\n",
    "To produce a HTML file your script must contain `output_file(\"callback.html\")` to specify an output file. Then at the end of your script a `show(layout)` will open the HTML in your browser.\n",
    "\n",
    "Running our saved script in python will create the HTML:"
   ]
  },
  {
   "cell_type": "code",
   "execution_count": null,
   "metadata": {
    "collapsed": true
   },
   "outputs": [],
   "source": [
    "!python interactions.py"
   ]
  },
  {
   "cell_type": "markdown",
   "metadata": {},
   "source": [
    "And as you can see, the color cannot be changed as it calls a Python callback, not a Javascript callback."
   ]
  },
  {
   "cell_type": "code",
   "execution_count": null,
   "metadata": {
    "collapsed": true
   },
   "outputs": [],
   "source": [
    "!ls -lt"
   ]
  },
  {
   "cell_type": "markdown",
   "metadata": {},
   "source": [
    "### bokeh serve\n",
    "Another method to view the plots is to open the file in a Bokeh server. This approach allows Python code to be ran in any interactions you define.\n",
    "\n",
    "To open a file in a bokeh server you must add the line `curdoc().add_root(layout)` to the end of your script. `output_file(\"callback.html\")` and `show(layout)` are ignored when running the script inside a Bokeh server."
   ]
  },
  {
   "cell_type": "code",
   "execution_count": null,
   "metadata": {
    "collapsed": true
   },
   "outputs": [],
   "source": [
    "!bokeh serve --show interactions.py"
   ]
  },
  {
   "cell_type": "markdown",
   "metadata": {},
   "source": [
    "### Jupyter Notebook\n",
    "Bokeh plots, as you have already seen, can also be viewed in an IPython Notebook. This can be achieved using the `output_notebook()` and `show(layout)` functions.\n",
    "\n",
    "Interactions written in Python can also work inside the notebook provided `notebook_handle=True` is passed to the show function. The show function then returns a \"handle\", and using `push_notebook(handle=handle)` will push any new updates to the existing figure. This will be seen in the next section."
   ]
  },
  {
   "cell_type": "markdown",
   "metadata": {
    "collapsed": true
   },
   "source": [
    "## Updating/Streaming\n",
    "Bokeh also provides the possibility to stream updates to your plot, changing the data the plot shows. Some cases where this is useful:\n",
    "* Selecting a subset of a larger dataset\n",
    "* Plotting a dataset that is updating in realtime (temperature readings, stock market data)\n",
    "\n",
    "To achieve this, we use a Bokeh CoulumnDataSource object. When you pass datapoints to a figure, they are automatically stored in a ColumnDataSource. If the data is ever changed inside the ColumnDataSource, the plot automatically updates. Therefore we can create a ColumnDataSource containing our data, which we pass the the glyphs we are plotting. Then changing the data inside the ColumnDataSource will change the plot.\n",
    "\n",
    "Lets see this in action:"
   ]
  },
  {
   "cell_type": "code",
   "execution_count": null,
   "metadata": {
    "collapsed": false
   },
   "outputs": [],
   "source": [
    "from bokeh.plotting import figure, show, ColumnDataSource\n",
    "from bokeh.io import output_notebook, push_notebook\n",
    "from bokeh.layouts import column, gridplot\n",
    "import numpy as np\n",
    "import time\n",
    "output_notebook()\n",
    "\n",
    "x1 = np.arange(10)\n",
    "y1 = np.random.rand(10)"
   ]
  },
  {
   "cell_type": "code",
   "execution_count": null,
   "metadata": {
    "collapsed": false
   },
   "outputs": [],
   "source": [
    "# Create the ColumnDataSource\n",
    "cdsource_d = dict(x=x1, y=y1)\n",
    "cdsource = ColumnDataSource(data=cdsource_d)\n",
    "\n",
    "# Create 2 figures\n",
    "fig = figure(width=700, height=200)\n",
    "\n",
    "# Add glyphs to the figures\n",
    "fig.line('x', 'y', source=cdsource)\n",
    "\n",
    "# Plot the figure\n",
    "handle = show(fig, notebook_handle=True)"
   ]
  },
  {
   "cell_type": "code",
   "execution_count": null,
   "metadata": {
    "collapsed": false
   },
   "outputs": [],
   "source": [
    "# Loop where the data inside the ColumnDataSource is changed\n",
    "for i in range(100):\n",
    "    y1 = np.random.rand(10)\n",
    "    cdsource_d = dict(x=x1, y=y1)\n",
    "    cdsource.data = cdsource_d\n",
    "    push_notebook(handle=handle)\n",
    "    time.sleep(0.1)"
   ]
  },
  {
   "cell_type": "markdown",
   "metadata": {},
   "source": [
    "It is also possible to do this in a Bokeh server through the use of `curdoc().add_periodic_callback(update, 40)` where update is a function that changes the contents of the ColumnDataSource.\n",
    "\n",
    "A more advanced example of this exists inside the Bokeh examples directory, and has been included in the directory of this notebook. It additional packages to run, and I can only get it to work with python2.7, so you might not be able to run it. However you can look at the code to see how it works."
   ]
  },
  {
   "cell_type": "code",
   "execution_count": null,
   "metadata": {
    "collapsed": false
   },
   "outputs": [],
   "source": [
    "# This command will only work on my laptop\n",
    "!/Users/Jason/anaconda3/envs/py27/bin/bokeh serve --show spectrogram/"
   ]
  },
  {
   "cell_type": "markdown",
   "metadata": {},
   "source": [
    "This spectrogram plot was my inspiration to learn this package, and generate a live camera display for the CHEC camera:"
   ]
  },
  {
   "cell_type": "code",
   "execution_count": null,
   "metadata": {
    "collapsed": false
   },
   "outputs": [],
   "source": [
    "from IPython.display import Image\n",
    "Image(url='live.gif')"
   ]
  },
  {
   "cell_type": "code",
   "execution_count": null,
   "metadata": {
    "collapsed": false
   },
   "outputs": [],
   "source": [
    "# This command will only work on my laptop\n",
    "!/Users/Jason/anaconda3/envs/cta/bin/bokeh serve --show /Users/Jason/Software/TargetIO/source/script/targetpipe/scripts/bokeh_live_camera/"
   ]
  }
 ],
 "metadata": {
  "anaconda-cloud": {},
  "kernelspec": {
   "display_name": "Python [conda env:workshop]",
   "language": "python",
   "name": "conda-env-workshop-py"
  },
  "language_info": {
   "codemirror_mode": {
    "name": "ipython",
    "version": 3
   },
   "file_extension": ".py",
   "mimetype": "text/x-python",
   "name": "python",
   "nbconvert_exporter": "python",
   "pygments_lexer": "ipython3",
   "version": "3.5.3"
  },
  "nbpresent": {
   "slides": {
    "58e8c129-686b-4d18-8c97-69f4ef207b25": {
     "id": "58e8c129-686b-4d18-8c97-69f4ef207b25",
     "prev": null,
     "regions": {
      "6cbab6da-9e15-471a-8fbf-0d0f1dfb684c": {
       "attrs": {
        "height": 1,
        "width": 1,
        "x": 0,
        "y": 0
       },
       "content": {
        "cell": "d0e8869a-27fb-4b18-987e-82f374ca9fe7",
        "part": "source"
       },
       "id": "6cbab6da-9e15-471a-8fbf-0d0f1dfb684c"
      }
     }
    }
   },
   "themes": {
    "default": "607f7597-a17a-45d2-b7dd-4268382b635e",
    "theme": {
     "607f7597-a17a-45d2-b7dd-4268382b635e": {
      "backgrounds": {
       "backgroundColor": {
        "background-color": "backgroundColor",
        "id": "backgroundColor"
       }
      },
      "id": "607f7597-a17a-45d2-b7dd-4268382b635e",
      "palette": {
       "backgroundColor": {
        "id": "backgroundColor",
        "rgb": [
         256,
         256,
         256
        ]
       },
       "headingColor": {
        "id": "headingColor",
        "rgb": [
         0,
         0,
         0
        ]
       },
       "linkColor": {
        "id": "linkColor",
        "rgb": [
         0,
         0,
         139
        ]
       },
       "mainColor": {
        "id": "mainColor",
        "rgb": [
         0,
         0,
         0
        ]
       }
      },
      "rules": {
       "a": {
        "color": "linkColor"
       },
       "h1": {
        "color": "headingColor",
        "font-family": "News Cycle",
        "font-size": 7
       },
       "h2": {
        "color": "headingColor",
        "font-family": "News Cycle",
        "font-size": 5
       },
       "h3": {
        "color": "headingColor",
        "font-family": "News Cycle",
        "font-size": 3.75
       },
       "h4": {
        "color": "headingColor",
        "font-family": "News Cycle",
        "font-size": 3
       },
       "h5": {
        "color": "headingColor",
        "font-family": "News Cycle"
       },
       "h6": {
        "color": "headingColor",
        "font-family": "News Cycle"
       },
       "h7": {
        "color": "headingColor",
        "font-family": "News Cycle"
       },
       "li": {
        "color": "mainColor",
        "font-family": "Lato",
        "font-size": 5
       },
       "p": {
        "color": "mainColor",
        "font-family": "Lato",
        "font-size": 5
       }
      },
      "text-base": {
       "color": "mainColor",
       "font-family": "Lato",
       "font-size": 5
      }
     },
     "90a82222-4d82-435e-86cb-d3226a049ecd": {
      "backgrounds": {
       "backgroundColor": {
        "background-color": "backgroundColor",
        "id": "backgroundColor"
       }
      },
      "id": "90a82222-4d82-435e-86cb-d3226a049ecd",
      "palette": {
       "backgroundColor": {
        "id": "backgroundColor",
        "rgb": [
         34,
         34,
         34
        ]
       },
       "headingColor": {
        "id": "headingColor",
        "rgb": [
         238,
         238,
         238
        ]
       },
       "linkColor": {
        "id": "linkColor",
        "rgb": [
         170,
         34,
         51
        ]
       },
       "mainColor": {
        "id": "mainColor",
        "rgb": [
         238,
         238,
         238
        ]
       }
      },
      "rules": {
       "a": {
        "color": "linkColor"
       },
       "h1": {
        "color": "headingColor",
        "font-family": "Ubuntu",
        "font-size": 7
       },
       "h2": {
        "color": "headingColor",
        "font-family": "Ubuntu",
        "font-size": 5
       },
       "h3": {
        "color": "headingColor",
        "font-family": "Ubuntu",
        "font-size": 3.75
       },
       "h4": {
        "color": "headingColor",
        "font-family": "Ubuntu",
        "font-size": 3
       },
       "h5": {
        "color": "headingColor",
        "font-family": "Ubuntu"
       },
       "h6": {
        "color": "headingColor",
        "font-family": "Ubuntu"
       },
       "h7": {
        "color": "headingColor",
        "font-family": "Ubuntu"
       },
       "li": {
        "color": "mainColor",
        "font-family": "Ubuntu",
        "font-size": 5
       },
       "p": {
        "color": "mainColor",
        "font-family": "Ubuntu",
        "font-size": 5
       }
      },
      "text-base": {
       "color": "mainColor",
       "font-family": "Ubuntu",
       "font-size": 5
      }
     }
    }
   }
  }
 },
 "nbformat": 4,
 "nbformat_minor": 2
}
